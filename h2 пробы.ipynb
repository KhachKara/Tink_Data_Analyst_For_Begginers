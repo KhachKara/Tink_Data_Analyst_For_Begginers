{
 "cells": [
  {
   "cell_type": "code",
   "execution_count": 2,
   "id": "9e7213a4",
   "metadata": {},
   "outputs": [],
   "source": [
    "import re\n",
    "import csv"
   ]
  },
  {
   "cell_type": "code",
   "execution_count": 3,
   "id": "94db5d08",
   "metadata": {},
   "outputs": [],
   "source": [
    "with open('ha2.txt', 'r', encoding='utf-8') as f:\n",
    "    file = f.read().strip().split('\\n')\n",
    "    categories = []\n",
    "    _ = []\n",
    "    \n",
    "    for i in file:\n",
    "        m = re.search(';[A-Z].+?\\;', i).group(0)\n",
    "        _.append(m)\n",
    "    for i in set(_):\n",
    "        if i.isupper():\n",
    "            categories.append(i.replace(';', ''))\n",
    "    header = ['App', 'Category', 'Rating', 'Reviews', 'Size', 'Installs', \n",
    "              'Type', 'Price', 'Content Rating', 'Genres', 'Last Updated', \n",
    "              'Current Ver', 'Android Ver']        \n",
    "    with open('ha2.csv', 'w', newline='', encoding='utf-8') as csv_file:\n",
    "        writer = csv.writer(csv_file, delimiter=';')\n",
    "        writer.writerow(header)\n",
    "        for i in file:\n",
    "            for j in categories:\n",
    "                if re.match(f'(.+)(;{j})', i):\n",
    "                    row = i.split(f';{j}')\n",
    "                    writer.writerow([row[0].replace(';', '') + f';{j}' + row[1]])"
   ]
  },
  {
   "cell_type": "code",
   "execution_count": null,
   "id": "d93344dd",
   "metadata": {},
   "outputs": [],
   "source": []
  }
 ],
 "metadata": {
  "kernelspec": {
   "display_name": "Python 3 (ipykernel)",
   "language": "python",
   "name": "python3"
  },
  "language_info": {
   "codemirror_mode": {
    "name": "ipython",
    "version": 3
   },
   "file_extension": ".py",
   "mimetype": "text/x-python",
   "name": "python",
   "nbconvert_exporter": "python",
   "pygments_lexer": "ipython3",
   "version": "3.10.7"
  }
 },
 "nbformat": 4,
 "nbformat_minor": 5
}
