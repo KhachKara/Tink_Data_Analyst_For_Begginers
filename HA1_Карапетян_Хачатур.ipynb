{
 "cells": [
  {
   "cell_type": "markdown",
   "id": "0dff183c",
   "metadata": {},
   "source": [
    "Предполагается, что в рамках данного задания ученики сами будут изучать документацию, как минимум используя функционал `tab` и `shift+tab` от Jupyter"
   ]
  },
  {
   "cell_type": "markdown",
   "id": "433a75f4",
   "metadata": {},
   "source": [
    "1. Импортируйте библиотеку pandas \n",
    "2. Считайте файл `wage.csv` в DataFrame с названием `wage`. Используйте для этого функцию pd.read_csv()\n",
    "\n",
    "`person_id` - идентификатор человека\n",
    "\n",
    "`gender` - пол, 0 - женский, 1 - мужской\n",
    "\n",
    "`wage` - заработная плата в рублях"
   ]
  },
  {
   "cell_type": "code",
   "execution_count": 195,
   "id": "6df622f4",
   "metadata": {},
   "outputs": [],
   "source": [
    "import pandas as pd\n",
    "df = pd.read_csv('wage.csv', encoding='utf-8')"
   ]
  },
  {
   "cell_type": "code",
   "execution_count": null,
   "id": "95c81ca5",
   "metadata": {},
   "outputs": [],
   "source": []
  },
  {
   "cell_type": "markdown",
   "id": "c505c633",
   "metadata": {},
   "source": [
    "3. Поменяйте колонку `gender` так, чтобы были записи `F` (female) и `M` (male) вместо 0 и 1"
   ]
  },
  {
   "cell_type": "code",
   "execution_count": 196,
   "id": "e22d11b1",
   "metadata": {},
   "outputs": [],
   "source": [
    "def replace_FM(anItem):\n",
    "    if anItem == 0:\n",
    "        return 'F' \n",
    "    elif anItem == 1:\n",
    "        return 'M'\n",
    "\n",
    "\n",
    "df.gender = df.gender.apply(replace_FM)"
   ]
  },
  {
   "cell_type": "code",
   "execution_count": null,
   "id": "acf640b9",
   "metadata": {},
   "outputs": [],
   "source": []
  },
  {
   "cell_type": "markdown",
   "id": "9d5890d1",
   "metadata": {},
   "source": [
    "4. Давайте посчитаем среднюю зарплату у мужчин и женщин. Для этого используйте метод `groupby` со следующим синтаксисом:\n",
    "\n",
    "`dataframe.groupby(Название_колонки_для_группировки)[Перечисление_колонок_для_агрегации].функция_агрегации()`"
   ]
  },
  {
   "cell_type": "code",
   "execution_count": 201,
   "id": "8eb0326f",
   "metadata": {},
   "outputs": [],
   "source": [
    "# 1-й вариант\n",
    "amount_M = df.groupby(df.gender)['person_id'].count().M\n",
    "amount_F = df.groupby(df.gender)['person_id'].count().F\n",
    "avg_salary_M = sum(df[df.gender == 'M'].wage.values) / amount_M\n",
    "avg_salary_F = sum(df[df.gender == 'F'].wage.values) / amount_F"
   ]
  },
  {
   "cell_type": "code",
   "execution_count": 202,
   "id": "66ba0d78",
   "metadata": {},
   "outputs": [],
   "source": [
    "# 2-й вариант\n",
    "avg_salary_M = df[df.gender == 'M'].wage.values.mean()\n",
    "avg_salary_F = df[df.gender == 'F'].wage.values.mean()"
   ]
  },
  {
   "cell_type": "code",
   "execution_count": 203,
   "id": "cfa1494c",
   "metadata": {},
   "outputs": [
    {
     "data": {
      "text/plain": [
       "gender\n",
       "F    40855.747261\n",
       "M    46815.944005\n",
       "Name: wage, dtype: float64"
      ]
     },
     "execution_count": 203,
     "metadata": {},
     "output_type": "execute_result"
    }
   ],
   "source": [
    "# 3-й вариант\n",
    "df.groupby(df.gender)['wage'].mean()"
   ]
  },
  {
   "cell_type": "code",
   "execution_count": null,
   "id": "d2ffbbb4",
   "metadata": {},
   "outputs": [],
   "source": []
  },
  {
   "cell_type": "markdown",
   "id": "1c76cb9e",
   "metadata": {},
   "source": [
    "5. Теперь взглянем внимательнее на данные и обнаружим, что некоторые люди попали в выборку несколько раз. \n",
    "    1. Найдите таких людей. Подсказка: `value_counts()`\n",
    "    0. Убедитесь, что записи по ним с одинаковым `wage`. Возможно, тут вам пригодится функция агрегации `nunique()`, отображающая количество разных значений\n",
    "    0. Избавьтесь от повторяющихся значений. Подсказка: `drop_duplicates()`"
   ]
  },
  {
   "cell_type": "code",
   "execution_count": 204,
   "id": "d1e06e57",
   "metadata": {},
   "outputs": [
    {
     "data": {
      "text/plain": [
       "person_id  gender  wage         \n",
       "17         M       20178.985060     2\n",
       "16         F       35448.040878     2\n",
       "15         F       68341.332163     2\n",
       "14         M       13434.655493     2\n",
       "13         M       273483.609236    2\n",
       "12         M       23547.663281     2\n",
       "dtype: int64"
      ]
     },
     "execution_count": 204,
     "metadata": {},
     "output_type": "execute_result"
    }
   ],
   "source": [
    "# A\n",
    "df.value_counts()[df.value_counts() > 1]"
   ]
  },
  {
   "cell_type": "code",
   "execution_count": 207,
   "id": "21585ab2",
   "metadata": {},
   "outputs": [],
   "source": [
    "#B\n",
    "df[df.person_id == 12]"
   ]
  },
  {
   "cell_type": "code",
   "execution_count": 208,
   "id": "01946ca6",
   "metadata": {},
   "outputs": [],
   "source": [
    "df = df.drop_duplicates()"
   ]
  },
  {
   "cell_type": "code",
   "execution_count": null,
   "id": "437c1ad1",
   "metadata": {},
   "outputs": [],
   "source": []
  },
  {
   "cell_type": "markdown",
   "id": "6d473660",
   "metadata": {},
   "source": [
    "6. Теперь посмотрим внимательнее на зарплаты\n",
    "    1. Охарактеризуйте имеющиеся данные по зарплатам. Подсказка: `describe`\n",
    "    1. Избавьтесь от бессмысленных значений"
   ]
  },
  {
   "cell_type": "code",
   "execution_count": 210,
   "id": "c86a3848",
   "metadata": {},
   "outputs": [],
   "source": [
    "df.wage.describe();"
   ]
  },
  {
   "cell_type": "code",
   "execution_count": 212,
   "id": "97936fb0",
   "metadata": {},
   "outputs": [],
   "source": [
    "df = df.drop(labels = df.wage[df.wage <= 0].index,axis = 0)\n",
    "df.describe()"
   ]
  },
  {
   "cell_type": "code",
   "execution_count": null,
   "id": "4d09763b",
   "metadata": {},
   "outputs": [],
   "source": []
  },
  {
   "cell_type": "markdown",
   "id": "7ddfcfa9",
   "metadata": {},
   "source": [
    "7. Давайте теперь посмотрим на зарплату с учетом бонуса. Для этого нам понадобится таблица `bonus.csv`. Считайте ее в переменную `bonus`. Заметьте, что она сохранена немного в другом формате, и вам понадобится уточнить параметр `sep` - разделитель записей. Сравните текущий файл с предыдущим и попробуйте решить проблему"
   ]
  },
  {
   "cell_type": "code",
   "execution_count": 214,
   "id": "7f30f0ac",
   "metadata": {},
   "outputs": [],
   "source": [
    "df_bonus = pd.read_csv('bonus.csv', sep=';' ,encoding='utf-8')\n",
    "df_bonus"
   ]
  },
  {
   "cell_type": "code",
   "execution_count": null,
   "id": "ca8ec57d",
   "metadata": {},
   "outputs": [],
   "source": []
  },
  {
   "cell_type": "markdown",
   "id": "8784a76c",
   "metadata": {},
   "source": [
    "8. Чтобы посчитать итоговую зарплату, нам нужно по каждому человеку знать и оклад, и премию. Для этого надо будет соединить (сджойнить) таблицы по `person_id`. Используйте для этого функцию `pd.merge`. Помните, что параметр `how` должен быть `'outer'`, чтобы сохранить те записи, что есть только в одной таблице. Результат запишите в новый dataframe `df`"
   ]
  },
  {
   "cell_type": "code",
   "execution_count": 215,
   "id": "01a6758e",
   "metadata": {},
   "outputs": [
    {
     "data": {
      "text/html": [
       "<div>\n",
       "<style scoped>\n",
       "    .dataframe tbody tr th:only-of-type {\n",
       "        vertical-align: middle;\n",
       "    }\n",
       "\n",
       "    .dataframe tbody tr th {\n",
       "        vertical-align: top;\n",
       "    }\n",
       "\n",
       "    .dataframe thead th {\n",
       "        text-align: right;\n",
       "    }\n",
       "</style>\n",
       "<table border=\"1\" class=\"dataframe\">\n",
       "  <thead>\n",
       "    <tr style=\"text-align: right;\">\n",
       "      <th></th>\n",
       "      <th>person_id</th>\n",
       "      <th>gender</th>\n",
       "      <th>wage</th>\n",
       "      <th>bonus</th>\n",
       "    </tr>\n",
       "  </thead>\n",
       "  <tbody>\n",
       "    <tr>\n",
       "      <th>0</th>\n",
       "      <td>0</td>\n",
       "      <td>M</td>\n",
       "      <td>46793.603811</td>\n",
       "      <td>3.332934e+04</td>\n",
       "    </tr>\n",
       "    <tr>\n",
       "      <th>1</th>\n",
       "      <td>1</td>\n",
       "      <td>M</td>\n",
       "      <td>33481.575720</td>\n",
       "      <td>NaN</td>\n",
       "    </tr>\n",
       "    <tr>\n",
       "      <th>2</th>\n",
       "      <td>2</td>\n",
       "      <td>M</td>\n",
       "      <td>44523.699084</td>\n",
       "      <td>3.192912e+06</td>\n",
       "    </tr>\n",
       "    <tr>\n",
       "      <th>3</th>\n",
       "      <td>3</td>\n",
       "      <td>M</td>\n",
       "      <td>15995.576829</td>\n",
       "      <td>2.196858e+04</td>\n",
       "    </tr>\n",
       "    <tr>\n",
       "      <th>4</th>\n",
       "      <td>4</td>\n",
       "      <td>F</td>\n",
       "      <td>10282.631224</td>\n",
       "      <td>NaN</td>\n",
       "    </tr>\n",
       "    <tr>\n",
       "      <th>...</th>\n",
       "      <td>...</td>\n",
       "      <td>...</td>\n",
       "      <td>...</td>\n",
       "      <td>...</td>\n",
       "    </tr>\n",
       "    <tr>\n",
       "      <th>994</th>\n",
       "      <td>997</td>\n",
       "      <td>F</td>\n",
       "      <td>104504.616392</td>\n",
       "      <td>5.380978e+04</td>\n",
       "    </tr>\n",
       "    <tr>\n",
       "      <th>995</th>\n",
       "      <td>998</td>\n",
       "      <td>M</td>\n",
       "      <td>98927.903076</td>\n",
       "      <td>NaN</td>\n",
       "    </tr>\n",
       "    <tr>\n",
       "      <th>996</th>\n",
       "      <td>999</td>\n",
       "      <td>M</td>\n",
       "      <td>108107.141368</td>\n",
       "      <td>NaN</td>\n",
       "    </tr>\n",
       "    <tr>\n",
       "      <th>997</th>\n",
       "      <td>43</td>\n",
       "      <td>NaN</td>\n",
       "      <td>NaN</td>\n",
       "      <td>2.687784e+05</td>\n",
       "    </tr>\n",
       "    <tr>\n",
       "      <th>998</th>\n",
       "      <td>28</td>\n",
       "      <td>NaN</td>\n",
       "      <td>NaN</td>\n",
       "      <td>1.709523e+04</td>\n",
       "    </tr>\n",
       "  </tbody>\n",
       "</table>\n",
       "<p>999 rows × 4 columns</p>\n",
       "</div>"
      ],
      "text/plain": [
       "     person_id gender           wage         bonus\n",
       "0            0      M   46793.603811  3.332934e+04\n",
       "1            1      M   33481.575720           NaN\n",
       "2            2      M   44523.699084  3.192912e+06\n",
       "3            3      M   15995.576829  2.196858e+04\n",
       "4            4      F   10282.631224           NaN\n",
       "..         ...    ...            ...           ...\n",
       "994        997      F  104504.616392  5.380978e+04\n",
       "995        998      M   98927.903076           NaN\n",
       "996        999      M  108107.141368           NaN\n",
       "997         43    NaN            NaN  2.687784e+05\n",
       "998         28    NaN            NaN  1.709523e+04\n",
       "\n",
       "[999 rows x 4 columns]"
      ]
     },
     "execution_count": 215,
     "metadata": {},
     "output_type": "execute_result"
    }
   ],
   "source": [
    "merged_df = df.merge(df_bonus, how='outer', on='person_id')\n",
    "merged_df"
   ]
  },
  {
   "cell_type": "code",
   "execution_count": null,
   "id": "e623d649",
   "metadata": {},
   "outputs": [],
   "source": []
  },
  {
   "cell_type": "markdown",
   "id": "e8e8abc2",
   "metadata": {},
   "source": [
    "9. Наконец, давайте посчитаем итоговую зарплату\n",
    "    1. Замените отсутствующие записи в колонке `bonus` нулями\n",
    "    1. Уберите людей без `wage` - это те \"плохие\" записи, от которых мы избавлялись на предыдущих шагах\n",
    "    1. Сделайте новую колонку `total`, которая будет равна 12 окладам и премии\n",
    "    1. Посчитайте среднюю и медианную итоговую зарплату в разрезе по полу. Подсказка: вместо функции агрегации можно написать `.agg()` и перечислить внутри нужные агрегаты"
   ]
  },
  {
   "cell_type": "code",
   "execution_count": 216,
   "id": "ee150c3c",
   "metadata": {},
   "outputs": [
    {
     "data": {
      "text/html": [
       "<div>\n",
       "<style scoped>\n",
       "    .dataframe tbody tr th:only-of-type {\n",
       "        vertical-align: middle;\n",
       "    }\n",
       "\n",
       "    .dataframe tbody tr th {\n",
       "        vertical-align: top;\n",
       "    }\n",
       "\n",
       "    .dataframe thead th {\n",
       "        text-align: right;\n",
       "    }\n",
       "</style>\n",
       "<table border=\"1\" class=\"dataframe\">\n",
       "  <thead>\n",
       "    <tr style=\"text-align: right;\">\n",
       "      <th></th>\n",
       "      <th>person_id</th>\n",
       "      <th>gender</th>\n",
       "      <th>wage</th>\n",
       "      <th>bonus</th>\n",
       "    </tr>\n",
       "  </thead>\n",
       "  <tbody>\n",
       "    <tr>\n",
       "      <th>0</th>\n",
       "      <td>0</td>\n",
       "      <td>M</td>\n",
       "      <td>46793.603811</td>\n",
       "      <td>3.332934e+04</td>\n",
       "    </tr>\n",
       "    <tr>\n",
       "      <th>1</th>\n",
       "      <td>1</td>\n",
       "      <td>M</td>\n",
       "      <td>33481.575720</td>\n",
       "      <td>0.000000e+00</td>\n",
       "    </tr>\n",
       "    <tr>\n",
       "      <th>2</th>\n",
       "      <td>2</td>\n",
       "      <td>M</td>\n",
       "      <td>44523.699084</td>\n",
       "      <td>3.192912e+06</td>\n",
       "    </tr>\n",
       "    <tr>\n",
       "      <th>3</th>\n",
       "      <td>3</td>\n",
       "      <td>M</td>\n",
       "      <td>15995.576829</td>\n",
       "      <td>2.196858e+04</td>\n",
       "    </tr>\n",
       "    <tr>\n",
       "      <th>4</th>\n",
       "      <td>4</td>\n",
       "      <td>F</td>\n",
       "      <td>10282.631224</td>\n",
       "      <td>0.000000e+00</td>\n",
       "    </tr>\n",
       "    <tr>\n",
       "      <th>...</th>\n",
       "      <td>...</td>\n",
       "      <td>...</td>\n",
       "      <td>...</td>\n",
       "      <td>...</td>\n",
       "    </tr>\n",
       "    <tr>\n",
       "      <th>994</th>\n",
       "      <td>997</td>\n",
       "      <td>F</td>\n",
       "      <td>104504.616392</td>\n",
       "      <td>5.380978e+04</td>\n",
       "    </tr>\n",
       "    <tr>\n",
       "      <th>995</th>\n",
       "      <td>998</td>\n",
       "      <td>M</td>\n",
       "      <td>98927.903076</td>\n",
       "      <td>0.000000e+00</td>\n",
       "    </tr>\n",
       "    <tr>\n",
       "      <th>996</th>\n",
       "      <td>999</td>\n",
       "      <td>M</td>\n",
       "      <td>108107.141368</td>\n",
       "      <td>0.000000e+00</td>\n",
       "    </tr>\n",
       "    <tr>\n",
       "      <th>997</th>\n",
       "      <td>43</td>\n",
       "      <td>0</td>\n",
       "      <td>0.000000</td>\n",
       "      <td>2.687784e+05</td>\n",
       "    </tr>\n",
       "    <tr>\n",
       "      <th>998</th>\n",
       "      <td>28</td>\n",
       "      <td>0</td>\n",
       "      <td>0.000000</td>\n",
       "      <td>1.709523e+04</td>\n",
       "    </tr>\n",
       "  </tbody>\n",
       "</table>\n",
       "<p>999 rows × 4 columns</p>\n",
       "</div>"
      ],
      "text/plain": [
       "     person_id gender           wage         bonus\n",
       "0            0      M   46793.603811  3.332934e+04\n",
       "1            1      M   33481.575720  0.000000e+00\n",
       "2            2      M   44523.699084  3.192912e+06\n",
       "3            3      M   15995.576829  2.196858e+04\n",
       "4            4      F   10282.631224  0.000000e+00\n",
       "..         ...    ...            ...           ...\n",
       "994        997      F  104504.616392  5.380978e+04\n",
       "995        998      M   98927.903076  0.000000e+00\n",
       "996        999      M  108107.141368  0.000000e+00\n",
       "997         43      0       0.000000  2.687784e+05\n",
       "998         28      0       0.000000  1.709523e+04\n",
       "\n",
       "[999 rows x 4 columns]"
      ]
     },
     "execution_count": 216,
     "metadata": {},
     "output_type": "execute_result"
    }
   ],
   "source": [
    "#A\n",
    "merged_df = merged_df.fillna(0)\n",
    "merged_df"
   ]
  },
  {
   "cell_type": "code",
   "execution_count": 217,
   "id": "ab30b1b2",
   "metadata": {},
   "outputs": [
    {
     "data": {
      "text/html": [
       "<div>\n",
       "<style scoped>\n",
       "    .dataframe tbody tr th:only-of-type {\n",
       "        vertical-align: middle;\n",
       "    }\n",
       "\n",
       "    .dataframe tbody tr th {\n",
       "        vertical-align: top;\n",
       "    }\n",
       "\n",
       "    .dataframe thead th {\n",
       "        text-align: right;\n",
       "    }\n",
       "</style>\n",
       "<table border=\"1\" class=\"dataframe\">\n",
       "  <thead>\n",
       "    <tr style=\"text-align: right;\">\n",
       "      <th></th>\n",
       "      <th>person_id</th>\n",
       "      <th>gender</th>\n",
       "      <th>wage</th>\n",
       "      <th>bonus</th>\n",
       "    </tr>\n",
       "  </thead>\n",
       "  <tbody>\n",
       "    <tr>\n",
       "      <th>0</th>\n",
       "      <td>0</td>\n",
       "      <td>M</td>\n",
       "      <td>46793.603811</td>\n",
       "      <td>3.332934e+04</td>\n",
       "    </tr>\n",
       "    <tr>\n",
       "      <th>1</th>\n",
       "      <td>1</td>\n",
       "      <td>M</td>\n",
       "      <td>33481.575720</td>\n",
       "      <td>0.000000e+00</td>\n",
       "    </tr>\n",
       "    <tr>\n",
       "      <th>2</th>\n",
       "      <td>2</td>\n",
       "      <td>M</td>\n",
       "      <td>44523.699084</td>\n",
       "      <td>3.192912e+06</td>\n",
       "    </tr>\n",
       "    <tr>\n",
       "      <th>3</th>\n",
       "      <td>3</td>\n",
       "      <td>M</td>\n",
       "      <td>15995.576829</td>\n",
       "      <td>2.196858e+04</td>\n",
       "    </tr>\n",
       "    <tr>\n",
       "      <th>4</th>\n",
       "      <td>4</td>\n",
       "      <td>F</td>\n",
       "      <td>10282.631224</td>\n",
       "      <td>0.000000e+00</td>\n",
       "    </tr>\n",
       "    <tr>\n",
       "      <th>...</th>\n",
       "      <td>...</td>\n",
       "      <td>...</td>\n",
       "      <td>...</td>\n",
       "      <td>...</td>\n",
       "    </tr>\n",
       "    <tr>\n",
       "      <th>992</th>\n",
       "      <td>995</td>\n",
       "      <td>M</td>\n",
       "      <td>66503.737185</td>\n",
       "      <td>3.452137e+03</td>\n",
       "    </tr>\n",
       "    <tr>\n",
       "      <th>993</th>\n",
       "      <td>996</td>\n",
       "      <td>M</td>\n",
       "      <td>9972.956272</td>\n",
       "      <td>3.892790e+05</td>\n",
       "    </tr>\n",
       "    <tr>\n",
       "      <th>994</th>\n",
       "      <td>997</td>\n",
       "      <td>F</td>\n",
       "      <td>104504.616392</td>\n",
       "      <td>5.380978e+04</td>\n",
       "    </tr>\n",
       "    <tr>\n",
       "      <th>995</th>\n",
       "      <td>998</td>\n",
       "      <td>M</td>\n",
       "      <td>98927.903076</td>\n",
       "      <td>0.000000e+00</td>\n",
       "    </tr>\n",
       "    <tr>\n",
       "      <th>996</th>\n",
       "      <td>999</td>\n",
       "      <td>M</td>\n",
       "      <td>108107.141368</td>\n",
       "      <td>0.000000e+00</td>\n",
       "    </tr>\n",
       "  </tbody>\n",
       "</table>\n",
       "<p>997 rows × 4 columns</p>\n",
       "</div>"
      ],
      "text/plain": [
       "     person_id gender           wage         bonus\n",
       "0            0      M   46793.603811  3.332934e+04\n",
       "1            1      M   33481.575720  0.000000e+00\n",
       "2            2      M   44523.699084  3.192912e+06\n",
       "3            3      M   15995.576829  2.196858e+04\n",
       "4            4      F   10282.631224  0.000000e+00\n",
       "..         ...    ...            ...           ...\n",
       "992        995      M   66503.737185  3.452137e+03\n",
       "993        996      M    9972.956272  3.892790e+05\n",
       "994        997      F  104504.616392  5.380978e+04\n",
       "995        998      M   98927.903076  0.000000e+00\n",
       "996        999      M  108107.141368  0.000000e+00\n",
       "\n",
       "[997 rows x 4 columns]"
      ]
     },
     "execution_count": 217,
     "metadata": {},
     "output_type": "execute_result"
    }
   ],
   "source": [
    "#B\n",
    "merged_df = merged_df[merged_df.wage != 0]\n",
    "merged_df"
   ]
  },
  {
   "cell_type": "code",
   "execution_count": 219,
   "id": "e018f849",
   "metadata": {},
   "outputs": [
    {
     "name": "stderr",
     "output_type": "stream",
     "text": [
      "C:\\Users\\lipton\\AppData\\Local\\Temp\\ipykernel_63308\\1859682464.py:2: SettingWithCopyWarning: \n",
      "A value is trying to be set on a copy of a slice from a DataFrame.\n",
      "Try using .loc[row_indexer,col_indexer] = value instead\n",
      "\n",
      "See the caveats in the documentation: https://pandas.pydata.org/pandas-docs/stable/user_guide/indexing.html#returning-a-view-versus-a-copy\n",
      "  merged_df['total'] = merged_df.wage * 12 + merged_df.bonus\n"
     ]
    },
    {
     "data": {
      "text/plain": [
       "0      5.948526e+05\n",
       "1      4.017789e+05\n",
       "2      3.727197e+06\n",
       "3      2.139155e+05\n",
       "4      1.233916e+05\n",
       "           ...     \n",
       "992    8.014970e+05\n",
       "993    5.089544e+05\n",
       "994    1.307865e+06\n",
       "995    1.187135e+06\n",
       "996    1.297286e+06\n",
       "Name: total, Length: 997, dtype: float64"
      ]
     },
     "execution_count": 219,
     "metadata": {},
     "output_type": "execute_result"
    }
   ],
   "source": [
    "#C\n",
    "merged_df['total'] = merged_df.wage * 12 + merged_df.bonus\n",
    "merged_df['total']"
   ]
  },
  {
   "cell_type": "code",
   "execution_count": 221,
   "id": "c41215a4",
   "metadata": {},
   "outputs": [
    {
     "data": {
      "text/plain": [
       "mean      614507.580935\n",
       "median    384201.320027\n",
       "Name: total, dtype: float64"
      ]
     },
     "execution_count": 221,
     "metadata": {},
     "output_type": "execute_result"
    }
   ],
   "source": [
    "#D\n",
    "# 1-й вариант\n",
    "merged_df.total.agg(['mean', 'median'])"
   ]
  },
  {
   "cell_type": "code",
   "execution_count": 223,
   "id": "50a393a8",
   "metadata": {},
   "outputs": [
    {
     "data": {
      "text/html": [
       "<div>\n",
       "<style scoped>\n",
       "    .dataframe tbody tr th:only-of-type {\n",
       "        vertical-align: middle;\n",
       "    }\n",
       "\n",
       "    .dataframe tbody tr th {\n",
       "        vertical-align: top;\n",
       "    }\n",
       "\n",
       "    .dataframe thead th {\n",
       "        text-align: right;\n",
       "    }\n",
       "</style>\n",
       "<table border=\"1\" class=\"dataframe\">\n",
       "  <thead>\n",
       "    <tr style=\"text-align: right;\">\n",
       "      <th></th>\n",
       "      <th>mean</th>\n",
       "      <th>median</th>\n",
       "    </tr>\n",
       "    <tr>\n",
       "      <th>gender</th>\n",
       "      <th></th>\n",
       "      <th></th>\n",
       "    </tr>\n",
       "  </thead>\n",
       "  <tbody>\n",
       "    <tr>\n",
       "      <th>F</th>\n",
       "      <td>570746.139432</td>\n",
       "      <td>347622.913892</td>\n",
       "    </tr>\n",
       "    <tr>\n",
       "      <th>M</th>\n",
       "      <td>657142.490282</td>\n",
       "      <td>437499.824868</td>\n",
       "    </tr>\n",
       "  </tbody>\n",
       "</table>\n",
       "</div>"
      ],
      "text/plain": [
       "                 mean         median\n",
       "gender                              \n",
       "F       570746.139432  347622.913892\n",
       "M       657142.490282  437499.824868"
      ]
     },
     "execution_count": 223,
     "metadata": {},
     "output_type": "execute_result"
    }
   ],
   "source": [
    "# 2-й вариант\n",
    "merged_df.groupby(merged_df.gender)['total'].agg(['mean', 'median'])"
   ]
  },
  {
   "cell_type": "code",
   "execution_count": 224,
   "id": "43737f2c",
   "metadata": {},
   "outputs": [
    {
     "data": {
      "text/html": [
       "<div>\n",
       "<style scoped>\n",
       "    .dataframe tbody tr th:only-of-type {\n",
       "        vertical-align: middle;\n",
       "    }\n",
       "\n",
       "    .dataframe tbody tr th {\n",
       "        vertical-align: top;\n",
       "    }\n",
       "\n",
       "    .dataframe thead th {\n",
       "        text-align: right;\n",
       "    }\n",
       "</style>\n",
       "<table border=\"1\" class=\"dataframe\">\n",
       "  <thead>\n",
       "    <tr style=\"text-align: right;\">\n",
       "      <th></th>\n",
       "      <th>person_id</th>\n",
       "      <th>gender</th>\n",
       "      <th>wage</th>\n",
       "      <th>bonus</th>\n",
       "      <th>total</th>\n",
       "    </tr>\n",
       "  </thead>\n",
       "  <tbody>\n",
       "    <tr>\n",
       "      <th>0</th>\n",
       "      <td>0</td>\n",
       "      <td>M</td>\n",
       "      <td>46793.603811</td>\n",
       "      <td>3.332934e+04</td>\n",
       "      <td>5.948526e+05</td>\n",
       "    </tr>\n",
       "    <tr>\n",
       "      <th>1</th>\n",
       "      <td>1</td>\n",
       "      <td>M</td>\n",
       "      <td>33481.575720</td>\n",
       "      <td>0.000000e+00</td>\n",
       "      <td>4.017789e+05</td>\n",
       "    </tr>\n",
       "    <tr>\n",
       "      <th>2</th>\n",
       "      <td>2</td>\n",
       "      <td>M</td>\n",
       "      <td>44523.699084</td>\n",
       "      <td>3.192912e+06</td>\n",
       "      <td>3.727197e+06</td>\n",
       "    </tr>\n",
       "    <tr>\n",
       "      <th>3</th>\n",
       "      <td>3</td>\n",
       "      <td>M</td>\n",
       "      <td>15995.576829</td>\n",
       "      <td>2.196858e+04</td>\n",
       "      <td>2.139155e+05</td>\n",
       "    </tr>\n",
       "    <tr>\n",
       "      <th>4</th>\n",
       "      <td>4</td>\n",
       "      <td>F</td>\n",
       "      <td>10282.631224</td>\n",
       "      <td>0.000000e+00</td>\n",
       "      <td>1.233916e+05</td>\n",
       "    </tr>\n",
       "    <tr>\n",
       "      <th>...</th>\n",
       "      <td>...</td>\n",
       "      <td>...</td>\n",
       "      <td>...</td>\n",
       "      <td>...</td>\n",
       "      <td>...</td>\n",
       "    </tr>\n",
       "    <tr>\n",
       "      <th>992</th>\n",
       "      <td>995</td>\n",
       "      <td>M</td>\n",
       "      <td>66503.737185</td>\n",
       "      <td>3.452137e+03</td>\n",
       "      <td>8.014970e+05</td>\n",
       "    </tr>\n",
       "    <tr>\n",
       "      <th>993</th>\n",
       "      <td>996</td>\n",
       "      <td>M</td>\n",
       "      <td>9972.956272</td>\n",
       "      <td>3.892790e+05</td>\n",
       "      <td>5.089544e+05</td>\n",
       "    </tr>\n",
       "    <tr>\n",
       "      <th>994</th>\n",
       "      <td>997</td>\n",
       "      <td>F</td>\n",
       "      <td>104504.616392</td>\n",
       "      <td>5.380978e+04</td>\n",
       "      <td>1.307865e+06</td>\n",
       "    </tr>\n",
       "    <tr>\n",
       "      <th>995</th>\n",
       "      <td>998</td>\n",
       "      <td>M</td>\n",
       "      <td>98927.903076</td>\n",
       "      <td>0.000000e+00</td>\n",
       "      <td>1.187135e+06</td>\n",
       "    </tr>\n",
       "    <tr>\n",
       "      <th>996</th>\n",
       "      <td>999</td>\n",
       "      <td>M</td>\n",
       "      <td>108107.141368</td>\n",
       "      <td>0.000000e+00</td>\n",
       "      <td>1.297286e+06</td>\n",
       "    </tr>\n",
       "  </tbody>\n",
       "</table>\n",
       "<p>997 rows × 5 columns</p>\n",
       "</div>"
      ],
      "text/plain": [
       "     person_id gender           wage         bonus         total\n",
       "0            0      M   46793.603811  3.332934e+04  5.948526e+05\n",
       "1            1      M   33481.575720  0.000000e+00  4.017789e+05\n",
       "2            2      M   44523.699084  3.192912e+06  3.727197e+06\n",
       "3            3      M   15995.576829  2.196858e+04  2.139155e+05\n",
       "4            4      F   10282.631224  0.000000e+00  1.233916e+05\n",
       "..         ...    ...            ...           ...           ...\n",
       "992        995      M   66503.737185  3.452137e+03  8.014970e+05\n",
       "993        996      M    9972.956272  3.892790e+05  5.089544e+05\n",
       "994        997      F  104504.616392  5.380978e+04  1.307865e+06\n",
       "995        998      M   98927.903076  0.000000e+00  1.187135e+06\n",
       "996        999      M  108107.141368  0.000000e+00  1.297286e+06\n",
       "\n",
       "[997 rows x 5 columns]"
      ]
     },
     "execution_count": 224,
     "metadata": {},
     "output_type": "execute_result"
    }
   ],
   "source": [
    "merged_df"
   ]
  },
  {
   "cell_type": "markdown",
   "id": "fcec06bd",
   "metadata": {},
   "source": [
    "10. Сохраните `df` в файл, используя метод `to_csv()`. Не записывайте индексы"
   ]
  },
  {
   "cell_type": "code",
   "execution_count": 225,
   "id": "660d1c10",
   "metadata": {},
   "outputs": [],
   "source": [
    "import csv\n",
    "with open('merged_df.csv', 'w', newline='') as csv_file:\n",
    "    fieldnames = ['gender', 'wage', 'bonus', 'total']\n",
    "    writer = csv.writer(csv_file)\n",
    "    writer.writerow(\n",
    "        fieldnames\n",
    "    )\n",
    "def write_csv(anItem):\n",
    "    with open('merged_df.csv', 'a', newline='') as csv_file:\n",
    "        writer = csv.writer(csv_file)\n",
    "        for i in range(len(anItem)):\n",
    "            writer.writerow(anItem[fieldnames].loc[i])\n",
    "write_csv(merged_df)"
   ]
  },
  {
   "cell_type": "code",
   "execution_count": null,
   "id": "7eb92fae",
   "metadata": {},
   "outputs": [],
   "source": []
  }
 ],
 "metadata": {
  "kernelspec": {
   "display_name": "Python 3 (ipykernel)",
   "language": "python",
   "name": "python3"
  },
  "language_info": {
   "codemirror_mode": {
    "name": "ipython",
    "version": 3
   },
   "file_extension": ".py",
   "mimetype": "text/x-python",
   "name": "python",
   "nbconvert_exporter": "python",
   "pygments_lexer": "ipython3",
   "version": "3.10.7"
  },
  "toc": {
   "base_numbering": 1,
   "nav_menu": {},
   "number_sections": true,
   "sideBar": true,
   "skip_h1_title": false,
   "title_cell": "Table of Contents",
   "title_sidebar": "Contents",
   "toc_cell": false,
   "toc_position": {},
   "toc_section_display": true,
   "toc_window_display": false
  }
 },
 "nbformat": 4,
 "nbformat_minor": 5
}
