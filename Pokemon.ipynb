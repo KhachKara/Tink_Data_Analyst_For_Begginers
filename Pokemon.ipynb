{
 "cells": [
  {
   "cell_type": "code",
   "execution_count": 1,
   "id": "209f233f",
   "metadata": {},
   "outputs": [],
   "source": [
    "import pandas as pd"
   ]
  },
  {
   "cell_type": "code",
   "execution_count": 3,
   "id": "de5a5595",
   "metadata": {},
   "outputs": [],
   "source": [
    "df = pd.read_csv('Pokemon.csv')"
   ]
  },
  {
   "cell_type": "code",
   "execution_count": 5,
   "id": "9d33e8c8",
   "metadata": {},
   "outputs": [
    {
     "name": "stdout",
     "output_type": "stream",
     "text": [
      "<class 'pandas.core.frame.DataFrame'>\n",
      "RangeIndex: 800 entries, 0 to 799\n",
      "Data columns (total 13 columns):\n",
      " #   Column      Non-Null Count  Dtype \n",
      "---  ------      --------------  ----- \n",
      " 0   #           800 non-null    int64 \n",
      " 1   Name        800 non-null    object\n",
      " 2   Type 1      800 non-null    object\n",
      " 3   Type 2      414 non-null    object\n",
      " 4   Total       800 non-null    int64 \n",
      " 5   HP          800 non-null    int64 \n",
      " 6   Attack      800 non-null    int64 \n",
      " 7   Defense     800 non-null    int64 \n",
      " 8   Sp. Atk     800 non-null    int64 \n",
      " 9   Sp. Def     800 non-null    int64 \n",
      " 10  Speed       800 non-null    int64 \n",
      " 11  Generation  800 non-null    int64 \n",
      " 12  Legendary   800 non-null    bool  \n",
      "dtypes: bool(1), int64(9), object(3)\n",
      "memory usage: 75.9+ KB\n"
     ]
    }
   ],
   "source": [
    "df.info()"
   ]
  },
  {
   "cell_type": "markdown",
   "id": "c9fdbb64",
   "metadata": {},
   "source": [
    "#### Назовите топ-3 самых частых типов покемонов (Type 1) и топ-3 самых редких типов покемонов (Type 1)"
   ]
  },
  {
   "cell_type": "code",
   "execution_count": 25,
   "id": "0d2f5d96",
   "metadata": {},
   "outputs": [
    {
     "data": {
      "text/plain": [
       "Water     112\n",
       "Normal     98\n",
       "Grass      70\n",
       "Name: Type 1, dtype: int64"
      ]
     },
     "execution_count": 25,
     "metadata": {},
     "output_type": "execute_result"
    }
   ],
   "source": [
    "df['Type 1'].value_counts().head(3)"
   ]
  },
  {
   "cell_type": "code",
   "execution_count": 23,
   "id": "23656c6e",
   "metadata": {},
   "outputs": [
    {
     "data": {
      "text/plain": [
       "Ice       24\n",
       "Fairy     17\n",
       "Flying     4\n",
       "Name: Type 1, dtype: int64"
      ]
     },
     "execution_count": 23,
     "metadata": {},
     "output_type": "execute_result"
    }
   ],
   "source": [
    "df['Type 1'].value_counts().tail(3)"
   ]
  },
  {
   "cell_type": "markdown",
   "id": "8690d87a",
   "metadata": {},
   "source": [
    "#### Что можно сказать про зависимость между общей силой покемона (Total) и статусом «Легендарный» (Legendary) у покемонов с типом из первой тройки предыдущего задания (топ-3 самых частых типов покемонов (Type 1))?\n"
   ]
  },
  {
   "cell_type": "code",
   "execution_count": 34,
   "id": "8dfc08c1",
   "metadata": {},
   "outputs": [],
   "source": [
    "top_3 = df['Type 1'].value_counts().head(3)"
   ]
  },
  {
   "cell_type": "code",
   "execution_count": 38,
   "id": "e5ad5f1b",
   "metadata": {},
   "outputs": [
    {
     "data": {
      "text/plain": [
       "Water     112\n",
       "Normal     98\n",
       "Grass      70\n",
       "Name: Type 1, dtype: int64"
      ]
     },
     "execution_count": 38,
     "metadata": {},
     "output_type": "execute_result"
    }
   ],
   "source": [
    "top_3"
   ]
  },
  {
   "cell_type": "code",
   "execution_count": 43,
   "id": "05fa8baa",
   "metadata": {},
   "outputs": [
    {
     "data": {
      "text/plain": [
       "112    False\n",
       "98     False\n",
       "70     False\n",
       "Name: Legendary, dtype: bool"
      ]
     },
     "execution_count": 43,
     "metadata": {},
     "output_type": "execute_result"
    }
   ],
   "source": [
    "df['Legendary'][df['Type 1'].value_counts().head(3)]"
   ]
  }
 ],
 "metadata": {
  "kernelspec": {
   "display_name": "Python 3 (ipykernel)",
   "language": "python",
   "name": "python3"
  },
  "language_info": {
   "codemirror_mode": {
    "name": "ipython",
    "version": 3
   },
   "file_extension": ".py",
   "mimetype": "text/x-python",
   "name": "python",
   "nbconvert_exporter": "python",
   "pygments_lexer": "ipython3",
   "version": "3.10.7"
  },
  "varInspector": {
   "cols": {
    "lenName": 16,
    "lenType": 16,
    "lenVar": 40
   },
   "kernels_config": {
    "python": {
     "delete_cmd_postfix": "",
     "delete_cmd_prefix": "del ",
     "library": "var_list.py",
     "varRefreshCmd": "print(var_dic_list())"
    },
    "r": {
     "delete_cmd_postfix": ") ",
     "delete_cmd_prefix": "rm(",
     "library": "var_list.r",
     "varRefreshCmd": "cat(var_dic_list()) "
    }
   },
   "types_to_exclude": [
    "module",
    "function",
    "builtin_function_or_method",
    "instance",
    "_Feature"
   ],
   "window_display": false
  }
 },
 "nbformat": 4,
 "nbformat_minor": 5
}
