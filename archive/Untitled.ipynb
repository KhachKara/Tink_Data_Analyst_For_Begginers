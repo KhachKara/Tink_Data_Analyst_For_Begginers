{
 "cells": [
  {
   "cell_type": "code",
   "execution_count": 1,
   "id": "2e6e137f",
   "metadata": {},
   "outputs": [],
   "source": [
    "import pandas as pd"
   ]
  },
  {
   "cell_type": "code",
   "execution_count": 2,
   "id": "109b4224",
   "metadata": {},
   "outputs": [],
   "source": [
    "df = pd.read_csv('Pokemon.csv')"
   ]
  },
  {
   "cell_type": "code",
   "execution_count": 14,
   "id": "247b8059",
   "metadata": {
    "scrolled": true
   },
   "outputs": [
    {
     "data": {
      "text/plain": [
       "Water       112\n",
       "Normal       98\n",
       "Grass        70\n",
       "Bug          69\n",
       "Psychic      57\n",
       "Fire         52\n",
       "Electric     44\n",
       "Rock         44\n",
       "Dragon       32\n",
       "Ground       32\n",
       "Ghost        32\n",
       "Dark         31\n",
       "Poison       28\n",
       "Steel        27\n",
       "Fighting     27\n",
       "Ice          24\n",
       "Fairy        17\n",
       "Flying        4\n",
       "Name: Type 1, dtype: int64"
      ]
     },
     "execution_count": 14,
     "metadata": {},
     "output_type": "execute_result"
    }
   ],
   "source": [
    "df['Type 1'].value_counts()"
   ]
  },
  {
   "cell_type": "code",
   "execution_count": 89,
   "id": "acfbbeb0",
   "metadata": {},
   "outputs": [],
   "source": [
    "WNG_df = df[df['Type 1'].isin(['Water', 'Normal', 'Grass'])]"
   ]
  },
  {
   "cell_type": "code",
   "execution_count": 62,
   "id": "7955bd3d",
   "metadata": {},
   "outputs": [],
   "source": [
    "IFF_df = df[df['Type 1'].isin(['Ice', 'Fairy', 'Flying'])]"
   ]
  },
  {
   "cell_type": "code",
   "execution_count": 98,
   "id": "55b8e19c",
   "metadata": {},
   "outputs": [
    {
     "data": {
      "text/html": [
       "<div>\n",
       "<style scoped>\n",
       "    .dataframe tbody tr th:only-of-type {\n",
       "        vertical-align: middle;\n",
       "    }\n",
       "\n",
       "    .dataframe tbody tr th {\n",
       "        vertical-align: top;\n",
       "    }\n",
       "\n",
       "    .dataframe thead th {\n",
       "        text-align: right;\n",
       "    }\n",
       "</style>\n",
       "<table border=\"1\" class=\"dataframe\">\n",
       "  <thead>\n",
       "    <tr style=\"text-align: right;\">\n",
       "      <th></th>\n",
       "      <th>Total</th>\n",
       "      <th>Legendary</th>\n",
       "      <th>Name</th>\n",
       "    </tr>\n",
       "  </thead>\n",
       "  <tbody>\n",
       "    <tr>\n",
       "      <th>792</th>\n",
       "      <td>680</td>\n",
       "      <td>True</td>\n",
       "      <td>Xerneas</td>\n",
       "    </tr>\n",
       "    <tr>\n",
       "      <th>156</th>\n",
       "      <td>580</td>\n",
       "      <td>True</td>\n",
       "      <td>Articuno</td>\n",
       "    </tr>\n",
       "    <tr>\n",
       "      <th>415</th>\n",
       "      <td>580</td>\n",
       "      <td>True</td>\n",
       "      <td>Regice</td>\n",
       "    </tr>\n",
       "    <tr>\n",
       "      <th>702</th>\n",
       "      <td>580</td>\n",
       "      <td>True</td>\n",
       "      <td>TornadusIncarnate Forme</td>\n",
       "    </tr>\n",
       "    <tr>\n",
       "      <th>703</th>\n",
       "      <td>580</td>\n",
       "      <td>True</td>\n",
       "      <td>TornadusTherian Forme</td>\n",
       "    </tr>\n",
       "  </tbody>\n",
       "</table>\n",
       "</div>"
      ],
      "text/plain": [
       "     Total  Legendary                     Name\n",
       "792    680       True                  Xerneas\n",
       "156    580       True                 Articuno\n",
       "415    580       True                   Regice\n",
       "702    580       True  TornadusIncarnate Forme\n",
       "703    580       True    TornadusTherian Forme"
      ]
     },
     "execution_count": 98,
     "metadata": {},
     "output_type": "execute_result"
    }
   ],
   "source": [
    "IFF_df[IFF_df['Legendary'] == True][['Total', 'Legendary', 'Name']].sort_values('Total', ascending=False)"
   ]
  },
  {
   "cell_type": "code",
   "execution_count": 97,
   "id": "10d78892",
   "metadata": {},
   "outputs": [
    {
     "data": {
      "text/html": [
       "<div>\n",
       "<style scoped>\n",
       "    .dataframe tbody tr th:only-of-type {\n",
       "        vertical-align: middle;\n",
       "    }\n",
       "\n",
       "    .dataframe tbody tr th {\n",
       "        vertical-align: top;\n",
       "    }\n",
       "\n",
       "    .dataframe thead th {\n",
       "        text-align: right;\n",
       "    }\n",
       "</style>\n",
       "<table border=\"1\" class=\"dataframe\">\n",
       "  <thead>\n",
       "    <tr style=\"text-align: right;\">\n",
       "      <th></th>\n",
       "      <th>Total</th>\n",
       "      <th>Legendary</th>\n",
       "      <th>Name</th>\n",
       "    </tr>\n",
       "  </thead>\n",
       "  <tbody>\n",
       "    <tr>\n",
       "      <th>422</th>\n",
       "      <td>770</td>\n",
       "      <td>True</td>\n",
       "      <td>KyogrePrimal Kyogre</td>\n",
       "    </tr>\n",
       "    <tr>\n",
       "      <th>552</th>\n",
       "      <td>720</td>\n",
       "      <td>True</td>\n",
       "      <td>Arceus</td>\n",
       "    </tr>\n",
       "    <tr>\n",
       "      <th>541</th>\n",
       "      <td>680</td>\n",
       "      <td>True</td>\n",
       "      <td>Palkia</td>\n",
       "    </tr>\n",
       "    <tr>\n",
       "      <th>421</th>\n",
       "      <td>670</td>\n",
       "      <td>True</td>\n",
       "      <td>Kyogre</td>\n",
       "    </tr>\n",
       "    <tr>\n",
       "      <th>543</th>\n",
       "      <td>670</td>\n",
       "      <td>True</td>\n",
       "      <td>Regigigas</td>\n",
       "    </tr>\n",
       "    <tr>\n",
       "      <th>550</th>\n",
       "      <td>600</td>\n",
       "      <td>True</td>\n",
       "      <td>ShayminLand Forme</td>\n",
       "    </tr>\n",
       "    <tr>\n",
       "      <th>551</th>\n",
       "      <td>600</td>\n",
       "      <td>True</td>\n",
       "      <td>ShayminSky Forme</td>\n",
       "    </tr>\n",
       "    <tr>\n",
       "      <th>264</th>\n",
       "      <td>580</td>\n",
       "      <td>True</td>\n",
       "      <td>Suicune</td>\n",
       "    </tr>\n",
       "    <tr>\n",
       "      <th>701</th>\n",
       "      <td>580</td>\n",
       "      <td>True</td>\n",
       "      <td>Virizion</td>\n",
       "    </tr>\n",
       "  </tbody>\n",
       "</table>\n",
       "</div>"
      ],
      "text/plain": [
       "     Total  Legendary                 Name\n",
       "422    770       True  KyogrePrimal Kyogre\n",
       "552    720       True               Arceus\n",
       "541    680       True               Palkia\n",
       "421    670       True               Kyogre\n",
       "543    670       True            Regigigas\n",
       "550    600       True    ShayminLand Forme\n",
       "551    600       True     ShayminSky Forme\n",
       "264    580       True              Suicune\n",
       "701    580       True             Virizion"
      ]
     },
     "execution_count": 97,
     "metadata": {},
     "output_type": "execute_result"
    }
   ],
   "source": [
    "WNG_df[WNG_df['Legendary'] == True][['Total', 'Legendary', 'Name']].sort_values('Total', ascending=False)"
   ]
  },
  {
   "cell_type": "code",
   "execution_count": 75,
   "id": "e4a692cf",
   "metadata": {
    "scrolled": true
   },
   "outputs": [
    {
     "data": {
      "text/plain": [
       "Total        410.280443\n",
       "Legendary      0.000000\n",
       "dtype: float64"
      ]
     },
     "execution_count": 75,
     "metadata": {},
     "output_type": "execute_result"
    }
   ],
   "source": [
    "WNG_df[WNG_df['Legendary'] == False][['Total', 'Legendary']].mean()"
   ]
  },
  {
   "cell_type": "code",
   "execution_count": null,
   "id": "4c516ab0",
   "metadata": {},
   "outputs": [],
   "source": []
  },
  {
   "cell_type": "code",
   "execution_count": 76,
   "id": "24881761",
   "metadata": {},
   "outputs": [
    {
     "data": {
      "text/plain": [
       "Total        652.222222\n",
       "Legendary      1.000000\n",
       "dtype: float64"
      ]
     },
     "execution_count": 76,
     "metadata": {},
     "output_type": "execute_result"
    }
   ],
   "source": [
    "WNG_df[WNG_df.Legendary][['Total', 'Legendary']].mean()"
   ]
  },
  {
   "cell_type": "code",
   "execution_count": null,
   "id": "f7d18d1b",
   "metadata": {},
   "outputs": [],
   "source": []
  },
  {
   "cell_type": "code",
   "execution_count": 77,
   "id": "a74ed76a",
   "metadata": {},
   "outputs": [
    {
     "data": {
      "text/plain": [
       "Total        409.175\n",
       "Legendary      0.000\n",
       "dtype: float64"
      ]
     },
     "execution_count": 77,
     "metadata": {},
     "output_type": "execute_result"
    }
   ],
   "source": [
    "IFF_df[IFF_df['Legendary'] == False][['Total', 'Legendary']].mean()"
   ]
  },
  {
   "cell_type": "code",
   "execution_count": 78,
   "id": "f48a199e",
   "metadata": {},
   "outputs": [
    {
     "data": {
      "text/plain": [
       "Total        600.0\n",
       "Legendary      1.0\n",
       "dtype: float64"
      ]
     },
     "execution_count": 78,
     "metadata": {},
     "output_type": "execute_result"
    }
   ],
   "source": [
    "IFF_df[IFF_df.Legendary][['Total', 'Legendary']].mean()"
   ]
  },
  {
   "cell_type": "code",
   "execution_count": null,
   "id": "630025c8",
   "metadata": {},
   "outputs": [],
   "source": []
  }
 ],
 "metadata": {
  "kernelspec": {
   "display_name": "Python 3 (ipykernel)",
   "language": "python",
   "name": "python3"
  },
  "language_info": {
   "codemirror_mode": {
    "name": "ipython",
    "version": 3
   },
   "file_extension": ".py",
   "mimetype": "text/x-python",
   "name": "python",
   "nbconvert_exporter": "python",
   "pygments_lexer": "ipython3",
   "version": "3.10.7"
  },
  "toc": {
   "base_numbering": 1,
   "nav_menu": {},
   "number_sections": true,
   "sideBar": true,
   "skip_h1_title": false,
   "title_cell": "Table of Contents",
   "title_sidebar": "Contents",
   "toc_cell": false,
   "toc_position": {},
   "toc_section_display": true,
   "toc_window_display": false
  },
  "varInspector": {
   "cols": {
    "lenName": 16,
    "lenType": 16,
    "lenVar": 40
   },
   "kernels_config": {
    "python": {
     "delete_cmd_postfix": "",
     "delete_cmd_prefix": "del ",
     "library": "var_list.py",
     "varRefreshCmd": "print(var_dic_list())"
    },
    "r": {
     "delete_cmd_postfix": ") ",
     "delete_cmd_prefix": "rm(",
     "library": "var_list.r",
     "varRefreshCmd": "cat(var_dic_list()) "
    }
   },
   "types_to_exclude": [
    "module",
    "function",
    "builtin_function_or_method",
    "instance",
    "_Feature"
   ],
   "window_display": false
  }
 },
 "nbformat": 4,
 "nbformat_minor": 5
}
